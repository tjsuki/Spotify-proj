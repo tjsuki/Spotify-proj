{
 "cells": [
  {
   "cell_type": "code",
   "execution_count": 1,
   "id": "a74bcea8",
   "metadata": {},
   "outputs": [],
   "source": [
    "import spotipy.util as util\n",
    "import spotipy\n",
    "from spotipy.oauth2 import SpotifyClientCredentials\n",
    "import json\n",
    "import pandas as pd\n",
    "\n",
    "username = '1266336804'\n",
    "client_id = '40a1fa542f6d4637a0154eae9994a109'\n",
    "client_secret = 'dec63e56d9944dafa56f04c2aeb04f07'\n",
    "redirect_uri = 'http://localhost:7777/callback'\n",
    "scope = 'user-library-read'\n",
    "\n",
    "token = util.prompt_for_user_token(username=username,\n",
    "                                  scope=scope,\n",
    "                                  client_id=client_id,\n",
    "                                  client_secret=client_secret,\n",
    "                                  redirect_uri=redirect_uri)"
   ]
  },
  {
   "cell_type": "code",
   "execution_count": 2,
   "id": "824d703e",
   "metadata": {},
   "outputs": [],
   "source": [
    "client_credentials_manager = SpotifyClientCredentials(client_id, client_secret)\n",
    "sp = spotipy.Spotify(client_credentials_manager=client_credentials_manager, auth=token)"
   ]
  },
  {
   "cell_type": "code",
   "execution_count": 3,
   "id": "094ddbe7",
   "metadata": {},
   "outputs": [
    {
     "name": "stdout",
     "output_type": "stream",
     "text": [
      "BQAXkcPD9bO8rMhxEa-edhBcx0FaL0c5KF7i6f0zT0GNvsgY3EUKspaqwIkHA1j5kQZ0yp4RGNNPmNfnQKRhNe7VzVl4XG21JVjwCQrfrrVhgPzDX6EluermVksZWV2BTTv95MFMl-iNch-xo1CT6Zl_DNlOT3J1jA\n"
     ]
    }
   ],
   "source": [
    "print(token)"
   ]
  },
  {
   "cell_type": "code",
   "execution_count": 4,
   "id": "8ad8de0d",
   "metadata": {},
   "outputs": [],
   "source": [
    "import requests\n",
    "def get_saved_songs(token: str, offset: int) -> str:  # : str are annotations for what the variables mean,\n",
    "    headers = {'Accept': 'application/json',                  # retrieve with f.__annotations__\n",
    "                'Content-Type': 'application/json',\n",
    "                'Authorization': f'Bearer ' + token}\n",
    "    params = [('limit', 50), ('offset', offset * 50)]\n",
    "    try:\n",
    "        response = requests.get('https://api.spotify.com/v1/me/tracks',\n",
    "                                headers=headers, params=params)\n",
    "        json = response.json()\n",
    "        return json\n",
    "    except:\n",
    "        return False"
   ]
  },
  {
   "cell_type": "code",
   "execution_count": 5,
   "id": "cd8c0a87",
   "metadata": {},
   "outputs": [],
   "source": [
    "# checks if all values in an interating object are equal to each other\n",
    "def all_equal(iterator):\n",
    "    iterator = iter(iterator)\n",
    "    try:\n",
    "        first = next(iterator)\n",
    "    except StopIteration:\n",
    "        return True\n",
    "    return all(first == x for x in iterator)\n",
    "\n",
    "# checks if len of values for all keys are equal to each other in a dictionary\n",
    "def dict_vals_len_equal(dict):\n",
    "    val_len = []\n",
    "    for key in dict:\n",
    "        val_len.append(len(dict[key]))\n",
    "    return all_equal(val_len)"
   ]
  },
  {
   "cell_type": "code",
   "execution_count": 6,
   "id": "6de73744",
   "metadata": {},
   "outputs": [],
   "source": [
    "# get saved songs info in a dictionary\n",
    "def get_saved_songs_dict(token: str):\n",
    "\n",
    "    song_dict = {'id':[],\n",
    "                 'name':[],\n",
    "                 'album':[],\n",
    "                 'artist':[],\n",
    "                 'popularity':[],\n",
    "                 'year_added':[],\n",
    "                 'month_added':[]}\n",
    "    \n",
    "    offset = 0\n",
    "    more_songs = True\n",
    "    while(more_songs):\n",
    "        \n",
    "        saved_songs = get_saved_songs(token, offset)\n",
    "\n",
    "        if len(saved_songs['items']) == 0:\n",
    "            more_songs = False\n",
    "        for item in saved_songs['items']:\n",
    "             # track id\n",
    "            track_id = item['track']['id']\n",
    "            song_dict['id'].append(track_id)\n",
    "\n",
    "            # added date/time\n",
    "            track_added_at = item['added_at']\n",
    "            year_month = track_added_at.split('-')\n",
    "            song_dict['year_added'].append(year_month[0])\n",
    "            song_dict['month_added'].append(year_month[1])\n",
    "\n",
    "            # track name\n",
    "            track_name = item['track']['name']\n",
    "            song_dict['name'].append(track_name)\n",
    "\n",
    "            # album name\n",
    "            album_name = item['track']['album']['name']\n",
    "            song_dict['album'].append(album_name)\n",
    "\n",
    "            # artist\n",
    "            artist = item['track']['artists'][0]['name']\n",
    "            song_dict['artist'].append(artist)\n",
    "\n",
    "            # popularity\n",
    "            popularity = item['track']['popularity']\n",
    "            song_dict['popularity'].append(popularity)\n",
    "        offset += 1\n",
    "    \n",
    "    if dict_vals_len_equal(song_dict):\n",
    "        return song_dict\n",
    "    else:\n",
    "        return \"Not all values are equal lengths\""
   ]
  },
  {
   "cell_type": "code",
   "execution_count": 7,
   "id": "9bcc597a",
   "metadata": {},
   "outputs": [],
   "source": [
    "song_dict = get_saved_songs_dict(token)"
   ]
  },
  {
   "cell_type": "code",
   "execution_count": 8,
   "id": "afd16bf9",
   "metadata": {},
   "outputs": [],
   "source": [
    "features_dict = {'danceability':[],\n",
    "            'energy':[],\n",
    "            'key':[],\n",
    "            'loudness':[],\n",
    "            'mode':[],\n",
    "            'speechiness':[],\n",
    "            'acousticness':[],\n",
    "            'instrumentalness':[],\n",
    "            'liveness':[],\n",
    "            'valence':[],\n",
    "            'tempo':[],\n",
    "            'time_signature':[]}\n",
    "\n",
    "ids = song_dict['id']\n",
    "\n",
    "for song_id in ids:\n",
    "    song_features = sp.audio_features(song_id)[0]\n",
    "    for feature in features_dict:\n",
    "        features_dict[feature].append(song_features[feature])"
   ]
  },
  {
   "cell_type": "code",
   "execution_count": 9,
   "id": "1462568e",
   "metadata": {},
   "outputs": [],
   "source": [
    "# faster if I get audio_features 50 songs at a time?\n",
    "\n",
    "def get_features(ids):\n",
    "    features_dict = {'danceability':[],\n",
    "            'energy':[],\n",
    "            'key':[],\n",
    "            'loudness':[],\n",
    "            'mode':[],\n",
    "            'speechiness':[],\n",
    "            'acousticness':[],\n",
    "            'instrumentalness':[],\n",
    "            'liveness':[],\n",
    "            'valence':[],\n",
    "            'tempo':[],\n",
    "            'time_signature':[]}\n",
    "\n",
    "    for song_id in ids:\n",
    "        song_features = sp.audio_features(song_id)[0]\n",
    "        for feature in features_dict:\n",
    "            features_dict[feature].append(song_features[feature])\n",
    "            \n",
    "    if dict_vals_len_equal(features_dict):\n",
    "        return features_dict\n",
    "    else:\n",
    "        return \"Not all values are equal lengths\""
   ]
  },
  {
   "cell_type": "code",
   "execution_count": 10,
   "id": "119446ea",
   "metadata": {},
   "outputs": [],
   "source": [
    "features_dict = get_features(song_dict['id'])"
   ]
  },
  {
   "cell_type": "code",
   "execution_count": 11,
   "id": "fb9b42c4",
   "metadata": {},
   "outputs": [],
   "source": [
    "# concatenate saved songs dict with the features dict\n",
    "saved_songs_dict = dict(song_dict, **features_dict)"
   ]
  },
  {
   "cell_type": "code",
   "execution_count": 12,
   "id": "d18d7481",
   "metadata": {},
   "outputs": [],
   "source": [
    "# convert to panda dataframe and then save\n",
    "saved_songs_df = pd.DataFrame.from_dict(saved_songs_dict)\n",
    "saved_songs_df.to_pickle(\"./saved_songs_df.pkl\")"
   ]
  },
  {
   "cell_type": "code",
   "execution_count": null,
   "id": "4f6bf66c",
   "metadata": {},
   "outputs": [],
   "source": []
  }
 ],
 "metadata": {
  "kernelspec": {
   "display_name": "Python 3",
   "language": "python",
   "name": "python3"
  },
  "language_info": {
   "codemirror_mode": {
    "name": "ipython",
    "version": 3
   },
   "file_extension": ".py",
   "mimetype": "text/x-python",
   "name": "python",
   "nbconvert_exporter": "python",
   "pygments_lexer": "ipython3",
   "version": "3.8.8"
  }
 },
 "nbformat": 4,
 "nbformat_minor": 5
}
