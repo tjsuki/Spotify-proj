{
 "cells": [
  {
   "cell_type": "markdown",
   "id": "a19bff50",
   "metadata": {},
   "source": [
    "# Load 'Liked Songs' Data from Spotify Account"
   ]
  },
  {
   "cell_type": "markdown",
   "id": "2ebdf12d",
   "metadata": {},
   "source": [
    "### Grab user token"
   ]
  },
  {
   "cell_type": "code",
   "execution_count": 1,
   "id": "a74bcea8",
   "metadata": {},
   "outputs": [],
   "source": [
    "import spotipy.util as util\n",
    "import spotipy\n",
    "from spotipy.oauth2 import SpotifyClientCredentials\n",
    "import json\n",
    "import pandas as pd\n",
    "import requests\n",
    "\n",
    "username = '1266336804'\n",
    "client_id = '40a1fa542f6d4637a0154eae9994a109'\n",
    "client_secret = # insert secret id\n",
    "redirect_uri = 'http://localhost:7777/callback'\n",
    "scope = 'user-library-read'\n",
    "\n",
    "token = util.prompt_for_user_token(username=username,\n",
    "                                  scope=scope,\n",
    "                                  client_id=client_id,\n",
    "                                  client_secret=client_secret,\n",
    "                                  redirect_uri=redirect_uri)"
   ]
  },
  {
   "cell_type": "code",
   "execution_count": 2,
   "id": "824d703e",
   "metadata": {},
   "outputs": [],
   "source": [
    "client_credentials_manager = SpotifyClientCredentials(client_id, client_secret)\n",
    "sp = spotipy.Spotify(client_credentials_manager=client_credentials_manager, auth=token)"
   ]
  },
  {
   "cell_type": "code",
   "execution_count": 3,
   "id": "094ddbe7",
   "metadata": {},
   "outputs": [
    {
     "name": "stdout",
     "output_type": "stream",
     "text": [
      "BQCA9MwAad0L8tvgxzNNVRCY9DmuVlUx2e15iMCC6iNahIqyIaFjb2XnDmTBuZfV16UoRt4nWawFCLEvl7UQVnsvDH9Qy8_H8aCNbG7j48_6Zcp_QF0iwplfBYItslJJ5bfTI4_s56dPH7NaLsVQ9vozDTm2TxBCYA\n"
     ]
    }
   ],
   "source": [
    "print(token)"
   ]
  },
  {
   "cell_type": "markdown",
   "id": "7273c826",
   "metadata": {},
   "source": [
    "### Create some functions that help with retrieving our data"
   ]
  },
  {
   "cell_type": "code",
   "execution_count": 4,
   "id": "8ad8de0d",
   "metadata": {},
   "outputs": [],
   "source": [
    "# This grabs all of our 'Liked Songs'. Offset adjustments made to make up for get() only being able\n",
    "#  to grab 50 songs at a time.\n",
    "\n",
    "def get_saved_songs(token: str, offset: int) -> str:  # : str are annotations for what the variables mean,\n",
    "    headers = {'Accept': 'application/json',                  # retrieve with f.__annotations__\n",
    "                'Content-Type': 'application/json',\n",
    "                'Authorization': f'Bearer ' + token}\n",
    "    params = [('limit', 50), ('offset', offset * 50)]\n",
    "    try:\n",
    "        response = requests.get('https://api.spotify.com/v1/me/tracks',\n",
    "                                headers=headers, params=params)\n",
    "        json = response.json()\n",
    "        return json\n",
    "    except:\n",
    "        return False"
   ]
  },
  {
   "cell_type": "code",
   "execution_count": 5,
   "id": "cd8c0a87",
   "metadata": {},
   "outputs": [],
   "source": [
    "# checks if all values in an interating object are equal to each other\n",
    "def all_equal(iterator):\n",
    "    iterator = iter(iterator)\n",
    "    try:\n",
    "        first = next(iterator)\n",
    "    except StopIteration:\n",
    "        return True\n",
    "    return all(first == x for x in iterator)\n",
    "\n",
    "# checks if len of values for all keys are equal to each other in a dictionary\n",
    "def dict_vals_len_equal(dict):\n",
    "    val_len = []\n",
    "    for key in dict:\n",
    "        val_len.append(len(dict[key]))\n",
    "    return all_equal(val_len)"
   ]
  },
  {
   "cell_type": "markdown",
   "id": "899e2239",
   "metadata": {},
   "source": [
    "Now utilize the functions above to create another function which retrieves all the songs under \"Liked Songs\" and places them in a dictionary. The dictionary will contain every \"Liked\" song and additional information associated with each song."
   ]
  },
  {
   "cell_type": "code",
   "execution_count": 19,
   "id": "6de73744",
   "metadata": {},
   "outputs": [],
   "source": [
    "# get saved songs info in a dictionary\n",
    "def get_saved_songs_dict(token: str):\n",
    "\n",
    "    song_dict = {'id':[],\n",
    "                 'name':[],\n",
    "                 'album':[],\n",
    "                 'artist':[],\n",
    "                 'popularity':[],\n",
    "                 'added_at':[]}\n",
    "    \n",
    "    offset = 0 # keeps track of how many songs we've retrieved so far (offset * 50)\n",
    "    more_songs = True\n",
    "    while(more_songs):\n",
    "        \n",
    "        saved_songs = get_saved_songs(token, offset)\n",
    "\n",
    "        if len(saved_songs['items']) == 0:\n",
    "            more_songs = False\n",
    "        for item in saved_songs['items']:\n",
    "            \n",
    "             # track id\n",
    "            track_id = item['track']['id']\n",
    "            song_dict['id'].append(track_id)\n",
    "\n",
    "            # added date/time\n",
    "            track_added_at = item['added_at']\n",
    "            song_dict['added_at'].append(track_added_at)\n",
    "\n",
    "            # track name\n",
    "            track_name = item['track']['name']\n",
    "            song_dict['name'].append(track_name)\n",
    "\n",
    "            # album name\n",
    "            album_name = item['track']['album']['name']\n",
    "            song_dict['album'].append(album_name)\n",
    "\n",
    "            # artist\n",
    "            artist = item['track']['artists'][0]['name']\n",
    "            song_dict['artist'].append(artist)\n",
    "\n",
    "            # popularity\n",
    "            popularity = item['track']['popularity']\n",
    "            song_dict['popularity'].append(popularity)\n",
    "        offset += 1\n",
    "    \n",
    "    if dict_vals_len_equal(song_dict):\n",
    "        return song_dict\n",
    "    else:\n",
    "        return \"Not all values are equal lengths\""
   ]
  },
  {
   "cell_type": "markdown",
   "id": "5b291568",
   "metadata": {},
   "source": [
    "### Now convert \"Liked Songs\" to a dictionary"
   ]
  },
  {
   "cell_type": "code",
   "execution_count": 20,
   "id": "9bcc597a",
   "metadata": {},
   "outputs": [],
   "source": [
    "# convert liked songs to a dictionary\n",
    "song_dict = get_saved_songs_dict(token)"
   ]
  },
  {
   "cell_type": "markdown",
   "id": "bc7a8885",
   "metadata": {},
   "source": [
    "### Grab Spotify's audio features for each song"
   ]
  },
  {
   "cell_type": "code",
   "execution_count": 21,
   "id": "afd16bf9",
   "metadata": {},
   "outputs": [],
   "source": [
    "features_dict = {'danceability':[],\n",
    "            'energy':[],\n",
    "            'key':[],\n",
    "            'loudness':[],\n",
    "            'mode':[],\n",
    "            'speechiness':[],\n",
    "            'acousticness':[],\n",
    "            'instrumentalness':[],\n",
    "            'liveness':[],\n",
    "            'valence':[],\n",
    "            'tempo':[],\n",
    "            'time_signature':[]}\n",
    "\n",
    "ids = song_dict['id']\n",
    "\n",
    "for song_id in ids:\n",
    "    song_features = sp.audio_features(song_id)[0]\n",
    "    for feature in features_dict:\n",
    "        features_dict[feature].append(song_features[feature])"
   ]
  },
  {
   "cell_type": "markdown",
   "id": "8ea64802",
   "metadata": {},
   "source": [
    "### Concatenate the audio features dictionary to saved songs dictionary."
   ]
  },
  {
   "cell_type": "code",
   "execution_count": 22,
   "id": "fb9b42c4",
   "metadata": {},
   "outputs": [],
   "source": [
    "# concatenate saved songs dict with the features dict\n",
    "saved_songs_dict = dict(song_dict, **features_dict)"
   ]
  },
  {
   "cell_type": "markdown",
   "id": "f8af1921",
   "metadata": {},
   "source": [
    "### Convert dictionary to Pandas dataframe and save as a pickle file"
   ]
  },
  {
   "cell_type": "code",
   "execution_count": 23,
   "id": "d18d7481",
   "metadata": {},
   "outputs": [
    {
     "data": {
      "text/html": [
       "<div>\n",
       "<style scoped>\n",
       "    .dataframe tbody tr th:only-of-type {\n",
       "        vertical-align: middle;\n",
       "    }\n",
       "\n",
       "    .dataframe tbody tr th {\n",
       "        vertical-align: top;\n",
       "    }\n",
       "\n",
       "    .dataframe thead th {\n",
       "        text-align: right;\n",
       "    }\n",
       "</style>\n",
       "<table border=\"1\" class=\"dataframe\">\n",
       "  <thead>\n",
       "    <tr style=\"text-align: right;\">\n",
       "      <th></th>\n",
       "      <th>id</th>\n",
       "      <th>name</th>\n",
       "      <th>album</th>\n",
       "      <th>artist</th>\n",
       "      <th>popularity</th>\n",
       "      <th>added_at</th>\n",
       "      <th>danceability</th>\n",
       "      <th>energy</th>\n",
       "      <th>key</th>\n",
       "      <th>loudness</th>\n",
       "      <th>mode</th>\n",
       "      <th>speechiness</th>\n",
       "      <th>acousticness</th>\n",
       "      <th>instrumentalness</th>\n",
       "      <th>liveness</th>\n",
       "      <th>valence</th>\n",
       "      <th>tempo</th>\n",
       "      <th>time_signature</th>\n",
       "    </tr>\n",
       "  </thead>\n",
       "  <tbody>\n",
       "    <tr>\n",
       "      <th>0</th>\n",
       "      <td>751gBcu62kORDelX7FV0mM</td>\n",
       "      <td>Thank You</td>\n",
       "      <td>No Angel</td>\n",
       "      <td>Dido</td>\n",
       "      <td>58</td>\n",
       "      <td>2021-08-27T05:32:10Z</td>\n",
       "      <td>0.722</td>\n",
       "      <td>0.595</td>\n",
       "      <td>1</td>\n",
       "      <td>-9.928</td>\n",
       "      <td>0</td>\n",
       "      <td>0.0415</td>\n",
       "      <td>0.284000</td>\n",
       "      <td>0.00054</td>\n",
       "      <td>0.0694</td>\n",
       "      <td>0.7380</td>\n",
       "      <td>79.981</td>\n",
       "      <td>4</td>\n",
       "    </tr>\n",
       "    <tr>\n",
       "      <th>1</th>\n",
       "      <td>7zKncUwLtKCMzwhEb3Jiqd</td>\n",
       "      <td>Overkill</td>\n",
       "      <td>Overkill</td>\n",
       "      <td>RIOT</td>\n",
       "      <td>48</td>\n",
       "      <td>2021-08-27T05:19:49Z</td>\n",
       "      <td>0.435</td>\n",
       "      <td>0.956</td>\n",
       "      <td>8</td>\n",
       "      <td>-1.369</td>\n",
       "      <td>0</td>\n",
       "      <td>0.1440</td>\n",
       "      <td>0.000448</td>\n",
       "      <td>0.65500</td>\n",
       "      <td>0.3430</td>\n",
       "      <td>0.1030</td>\n",
       "      <td>174.029</td>\n",
       "      <td>4</td>\n",
       "    </tr>\n",
       "    <tr>\n",
       "      <th>2</th>\n",
       "      <td>7eYYwvDDg5fBWdYqntL1lI</td>\n",
       "      <td>Angelic Layer</td>\n",
       "      <td>Cruel Choreography</td>\n",
       "      <td>GHOST DATA</td>\n",
       "      <td>32</td>\n",
       "      <td>2021-08-26T07:00:46Z</td>\n",
       "      <td>0.754</td>\n",
       "      <td>0.588</td>\n",
       "      <td>2</td>\n",
       "      <td>-5.993</td>\n",
       "      <td>0</td>\n",
       "      <td>0.0544</td>\n",
       "      <td>0.030900</td>\n",
       "      <td>0.60100</td>\n",
       "      <td>0.1090</td>\n",
       "      <td>0.0902</td>\n",
       "      <td>128.017</td>\n",
       "      <td>4</td>\n",
       "    </tr>\n",
       "    <tr>\n",
       "      <th>3</th>\n",
       "      <td>0nJ7Y8j5JoegBoXqHM9pJ6</td>\n",
       "      <td>Ashes</td>\n",
       "      <td>Ashes</td>\n",
       "      <td>Hellberg</td>\n",
       "      <td>30</td>\n",
       "      <td>2021-08-25T07:30:22Z</td>\n",
       "      <td>0.600</td>\n",
       "      <td>0.671</td>\n",
       "      <td>6</td>\n",
       "      <td>-7.666</td>\n",
       "      <td>0</td>\n",
       "      <td>0.0502</td>\n",
       "      <td>0.003880</td>\n",
       "      <td>0.04000</td>\n",
       "      <td>0.1780</td>\n",
       "      <td>0.2970</td>\n",
       "      <td>128.038</td>\n",
       "      <td>4</td>\n",
       "    </tr>\n",
       "    <tr>\n",
       "      <th>4</th>\n",
       "      <td>4i5McfiyWkcmVhV8A9oTbv</td>\n",
       "      <td>Last Star</td>\n",
       "      <td>Last Star</td>\n",
       "      <td>James Ivy</td>\n",
       "      <td>40</td>\n",
       "      <td>2021-08-24T22:14:20Z</td>\n",
       "      <td>0.522</td>\n",
       "      <td>0.896</td>\n",
       "      <td>7</td>\n",
       "      <td>-4.901</td>\n",
       "      <td>1</td>\n",
       "      <td>0.0351</td>\n",
       "      <td>0.008870</td>\n",
       "      <td>0.00000</td>\n",
       "      <td>0.2340</td>\n",
       "      <td>0.5050</td>\n",
       "      <td>101.026</td>\n",
       "      <td>4</td>\n",
       "    </tr>\n",
       "  </tbody>\n",
       "</table>\n",
       "</div>"
      ],
      "text/plain": [
       "                       id           name               album      artist  \\\n",
       "0  751gBcu62kORDelX7FV0mM      Thank You            No Angel        Dido   \n",
       "1  7zKncUwLtKCMzwhEb3Jiqd       Overkill            Overkill        RIOT   \n",
       "2  7eYYwvDDg5fBWdYqntL1lI  Angelic Layer  Cruel Choreography  GHOST DATA   \n",
       "3  0nJ7Y8j5JoegBoXqHM9pJ6          Ashes               Ashes    Hellberg   \n",
       "4  4i5McfiyWkcmVhV8A9oTbv      Last Star           Last Star   James Ivy   \n",
       "\n",
       "   popularity              added_at  danceability  energy  key  loudness  \\\n",
       "0          58  2021-08-27T05:32:10Z         0.722   0.595    1    -9.928   \n",
       "1          48  2021-08-27T05:19:49Z         0.435   0.956    8    -1.369   \n",
       "2          32  2021-08-26T07:00:46Z         0.754   0.588    2    -5.993   \n",
       "3          30  2021-08-25T07:30:22Z         0.600   0.671    6    -7.666   \n",
       "4          40  2021-08-24T22:14:20Z         0.522   0.896    7    -4.901   \n",
       "\n",
       "   mode  speechiness  acousticness  instrumentalness  liveness  valence  \\\n",
       "0     0       0.0415      0.284000           0.00054    0.0694   0.7380   \n",
       "1     0       0.1440      0.000448           0.65500    0.3430   0.1030   \n",
       "2     0       0.0544      0.030900           0.60100    0.1090   0.0902   \n",
       "3     0       0.0502      0.003880           0.04000    0.1780   0.2970   \n",
       "4     1       0.0351      0.008870           0.00000    0.2340   0.5050   \n",
       "\n",
       "     tempo  time_signature  \n",
       "0   79.981               4  \n",
       "1  174.029               4  \n",
       "2  128.017               4  \n",
       "3  128.038               4  \n",
       "4  101.026               4  "
      ]
     },
     "execution_count": 23,
     "metadata": {},
     "output_type": "execute_result"
    }
   ],
   "source": [
    "# convert to panda dataframe and then save\n",
    "saved_songs_df = pd.DataFrame.from_dict(saved_songs_dict)\n",
    "saved_songs_df.head()"
   ]
  },
  {
   "cell_type": "code",
   "execution_count": 24,
   "id": "4f6bf66c",
   "metadata": {},
   "outputs": [],
   "source": [
    "saved_songs_df.to_pickle(\"./saved_songs_df.pkl\")"
   ]
  }
 ],
 "metadata": {
  "kernelspec": {
   "display_name": "Python 3",
   "language": "python",
   "name": "python3"
  },
  "language_info": {
   "codemirror_mode": {
    "name": "ipython",
    "version": 3
   },
   "file_extension": ".py",
   "mimetype": "text/x-python",
   "name": "python",
   "nbconvert_exporter": "python",
   "pygments_lexer": "ipython3",
   "version": "3.8.8"
  }
 },
 "nbformat": 4,
 "nbformat_minor": 5
}
